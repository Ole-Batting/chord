{
 "cells": [
  {
   "cell_type": "code",
   "execution_count": 1,
   "id": "a601aa48",
   "metadata": {},
   "outputs": [
    {
     "name": "stdout",
     "output_type": "stream",
     "text": [
      "Populating the interactive namespace from numpy and matplotlib\n"
     ]
    }
   ],
   "source": [
    "%pylab inline\n",
    "from chord import Guitar\n",
    "import os\n",
    "guitar = Guitar()"
   ]
  },
  {
   "cell_type": "raw",
   "id": "531d7f7a",
   "metadata": {},
   "source": [
    "for tone in ['C','C#','D','D#','E','F','F#','G','G#','A','A#','B']:\n",
    "    for triad in ['M', 'm']:\n",
    "        chord = tone + triad\n",
    "        guitar(chord, with_inversion=True, store_figs=True)"
   ]
  },
  {
   "cell_type": "code",
   "execution_count": null,
   "id": "24650800",
   "metadata": {},
   "outputs": [],
   "source": [
    "for folder in os.listdir('figs'):\n",
    "    folder_path = os.path.join('figs', folder)\n",
    "    if os.path.isdir(folder_path):\n",
    "        n = 0\n",
    "        for fig in os.listdir(folder_path):\n",
    "            fig_path = os.path.join(folder_path, fig)\n",
    "            if os.path.isfile(fig_path):\n",
    "                if fig_path[-4:] == '.png':\n",
    "                    n += 1\n",
    "        rows = int(np.ceil(n/4))\n",
    "        cols = 4 if n >=4 else n\n",
    "        \n",
    "        img = np.zeros((1200*rows, 1200*cols, 4))\n",
    "        i = 0\n",
    "        for fig in os.listdir(folder_path):\n",
    "            fig_path = os.path.join(folder_path, fig)\n",
    "            if os.path.isfile(fig_path):\n",
    "                if fig_path[-4:] == '.png':\n",
    "                    r = i // 4\n",
    "                    c = i % 4\n",
    "                    img[r*1200:(r+1)*1200, c*1200:(c+1)*1200, :] = imread(fig_path)\n",
    "                    i += 1\n",
    "        plt.imshow(img)\n",
    "        plt.show()"
   ]
  },
  {
   "cell_type": "code",
   "execution_count": null,
   "id": "ec763416",
   "metadata": {},
   "outputs": [],
   "source": []
  }
 ],
 "metadata": {
  "kernelspec": {
   "display_name": "Python 3 (ipykernel)",
   "language": "python",
   "name": "python3"
  },
  "language_info": {
   "codemirror_mode": {
    "name": "ipython",
    "version": 3
   },
   "file_extension": ".py",
   "mimetype": "text/x-python",
   "name": "python",
   "nbconvert_exporter": "python",
   "pygments_lexer": "ipython3",
   "version": "3.9.7"
  }
 },
 "nbformat": 4,
 "nbformat_minor": 5
}
